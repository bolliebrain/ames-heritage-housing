{
 "cells": [
  {
   "cell_type": "markdown",
   "metadata": {},
   "source": [
    "# House Price Study Notebook"
   ]
  },
  {
   "cell_type": "markdown",
   "metadata": {},
   "source": [
    "### Objectives\n",
    "\n",
    "* The Client is interested in discovering how house attributes correlate with sale prices. Therefore, the client expects data visualisations of the correlated variables against the sale price.\n",
    "\n",
    "### Inputs\n",
    "\n",
    "* \n",
    "\n",
    "### Outputs\n",
    "\n",
    "* \n",
    "* \n",
    "\n",
    "### Additional Comments\n",
    "\n",
    "* \n",
    "* "
   ]
  },
  {
   "cell_type": "markdown",
   "metadata": {},
   "source": [
    "## Change working directory"
   ]
  },
  {
   "cell_type": "markdown",
   "metadata": {},
   "source": [
    "We need to change the working directory from its current folder to its parent folder"
   ]
  },
  {
   "cell_type": "markdown",
   "metadata": {},
   "source": [
    "* We access the current directory with os.getcwd()"
   ]
  },
  {
   "cell_type": "code",
   "execution_count": 1,
   "metadata": {},
   "outputs": [
    {
     "data": {
      "text/plain": [
       "'/workspace/ames-heritage-housing/jupyter_notebooks'"
      ]
     },
     "execution_count": 1,
     "metadata": {},
     "output_type": "execute_result"
    }
   ],
   "source": [
    "import os\n",
    "current_dir = os.getcwd()\n",
    "current_dir"
   ]
  },
  {
   "cell_type": "markdown",
   "metadata": {},
   "source": [
    "We want to make the parent of the current directory the new current directory\n"
   ]
  },
  {
   "cell_type": "markdown",
   "metadata": {},
   "source": [
    "* os.path.dirname() gets the parent directory\n",
    "* os.chir() defines the new current directory"
   ]
  },
  {
   "cell_type": "code",
   "execution_count": 2,
   "metadata": {},
   "outputs": [
    {
     "name": "stdout",
     "output_type": "stream",
     "text": [
      "You set a new current directory\n"
     ]
    }
   ],
   "source": [
    "os.chdir(os.path.dirname(current_dir))\n",
    "print(\"You set a new current directory\")"
   ]
  },
  {
   "cell_type": "markdown",
   "metadata": {},
   "source": [
    "Confirm the new directory"
   ]
  },
  {
   "cell_type": "code",
   "execution_count": 3,
   "metadata": {},
   "outputs": [
    {
     "data": {
      "text/plain": [
       "'/workspace/ames-heritage-housing'"
      ]
     },
     "execution_count": 3,
     "metadata": {},
     "output_type": "execute_result"
    }
   ],
   "source": [
    "current_dir = os.getcwd()\n",
    "current_dir"
   ]
  },
  {
   "cell_type": "markdown",
   "metadata": {},
   "source": [
    "## Load Data"
   ]
  },
  {
   "cell_type": "code",
   "execution_count": 4,
   "metadata": {},
   "outputs": [
    {
     "data": {
      "text/html": [
       "<div>\n",
       "<style scoped>\n",
       "    .dataframe tbody tr th:only-of-type {\n",
       "        vertical-align: middle;\n",
       "    }\n",
       "\n",
       "    .dataframe tbody tr th {\n",
       "        vertical-align: top;\n",
       "    }\n",
       "\n",
       "    .dataframe thead th {\n",
       "        text-align: right;\n",
       "    }\n",
       "</style>\n",
       "<table border=\"1\" class=\"dataframe\">\n",
       "  <thead>\n",
       "    <tr style=\"text-align: right;\">\n",
       "      <th></th>\n",
       "      <th>1stFlrSF</th>\n",
       "      <th>2ndFlrSF</th>\n",
       "      <th>BedroomAbvGr</th>\n",
       "      <th>BsmtExposure</th>\n",
       "      <th>BsmtFinSF1</th>\n",
       "      <th>BsmtFinType1</th>\n",
       "      <th>BsmtUnfSF</th>\n",
       "      <th>EnclosedPorch</th>\n",
       "      <th>GarageArea</th>\n",
       "      <th>GarageFinish</th>\n",
       "      <th>...</th>\n",
       "      <th>LotFrontage</th>\n",
       "      <th>MasVnrArea</th>\n",
       "      <th>OpenPorchSF</th>\n",
       "      <th>OverallCond</th>\n",
       "      <th>OverallQual</th>\n",
       "      <th>TotalBsmtSF</th>\n",
       "      <th>WoodDeckSF</th>\n",
       "      <th>YearBuilt</th>\n",
       "      <th>YearRemodAdd</th>\n",
       "      <th>SalePrice</th>\n",
       "    </tr>\n",
       "  </thead>\n",
       "  <tbody>\n",
       "    <tr>\n",
       "      <th>0</th>\n",
       "      <td>856</td>\n",
       "      <td>854.0</td>\n",
       "      <td>3.0</td>\n",
       "      <td>No</td>\n",
       "      <td>706</td>\n",
       "      <td>GLQ</td>\n",
       "      <td>150</td>\n",
       "      <td>0.0</td>\n",
       "      <td>548</td>\n",
       "      <td>RFn</td>\n",
       "      <td>...</td>\n",
       "      <td>65.0</td>\n",
       "      <td>196.0</td>\n",
       "      <td>61</td>\n",
       "      <td>5</td>\n",
       "      <td>7</td>\n",
       "      <td>856</td>\n",
       "      <td>0.0</td>\n",
       "      <td>2003</td>\n",
       "      <td>2003</td>\n",
       "      <td>208500</td>\n",
       "    </tr>\n",
       "    <tr>\n",
       "      <th>1</th>\n",
       "      <td>1262</td>\n",
       "      <td>0.0</td>\n",
       "      <td>3.0</td>\n",
       "      <td>Gd</td>\n",
       "      <td>978</td>\n",
       "      <td>ALQ</td>\n",
       "      <td>284</td>\n",
       "      <td>NaN</td>\n",
       "      <td>460</td>\n",
       "      <td>RFn</td>\n",
       "      <td>...</td>\n",
       "      <td>80.0</td>\n",
       "      <td>0.0</td>\n",
       "      <td>0</td>\n",
       "      <td>8</td>\n",
       "      <td>6</td>\n",
       "      <td>1262</td>\n",
       "      <td>NaN</td>\n",
       "      <td>1976</td>\n",
       "      <td>1976</td>\n",
       "      <td>181500</td>\n",
       "    </tr>\n",
       "    <tr>\n",
       "      <th>2</th>\n",
       "      <td>920</td>\n",
       "      <td>866.0</td>\n",
       "      <td>3.0</td>\n",
       "      <td>Mn</td>\n",
       "      <td>486</td>\n",
       "      <td>GLQ</td>\n",
       "      <td>434</td>\n",
       "      <td>0.0</td>\n",
       "      <td>608</td>\n",
       "      <td>RFn</td>\n",
       "      <td>...</td>\n",
       "      <td>68.0</td>\n",
       "      <td>162.0</td>\n",
       "      <td>42</td>\n",
       "      <td>5</td>\n",
       "      <td>7</td>\n",
       "      <td>920</td>\n",
       "      <td>NaN</td>\n",
       "      <td>2001</td>\n",
       "      <td>2002</td>\n",
       "      <td>223500</td>\n",
       "    </tr>\n",
       "    <tr>\n",
       "      <th>3</th>\n",
       "      <td>961</td>\n",
       "      <td>NaN</td>\n",
       "      <td>NaN</td>\n",
       "      <td>No</td>\n",
       "      <td>216</td>\n",
       "      <td>ALQ</td>\n",
       "      <td>540</td>\n",
       "      <td>NaN</td>\n",
       "      <td>642</td>\n",
       "      <td>Unf</td>\n",
       "      <td>...</td>\n",
       "      <td>60.0</td>\n",
       "      <td>0.0</td>\n",
       "      <td>35</td>\n",
       "      <td>5</td>\n",
       "      <td>7</td>\n",
       "      <td>756</td>\n",
       "      <td>NaN</td>\n",
       "      <td>1915</td>\n",
       "      <td>1970</td>\n",
       "      <td>140000</td>\n",
       "    </tr>\n",
       "    <tr>\n",
       "      <th>4</th>\n",
       "      <td>1145</td>\n",
       "      <td>NaN</td>\n",
       "      <td>4.0</td>\n",
       "      <td>Av</td>\n",
       "      <td>655</td>\n",
       "      <td>GLQ</td>\n",
       "      <td>490</td>\n",
       "      <td>0.0</td>\n",
       "      <td>836</td>\n",
       "      <td>RFn</td>\n",
       "      <td>...</td>\n",
       "      <td>84.0</td>\n",
       "      <td>350.0</td>\n",
       "      <td>84</td>\n",
       "      <td>5</td>\n",
       "      <td>8</td>\n",
       "      <td>1145</td>\n",
       "      <td>NaN</td>\n",
       "      <td>2000</td>\n",
       "      <td>2000</td>\n",
       "      <td>250000</td>\n",
       "    </tr>\n",
       "  </tbody>\n",
       "</table>\n",
       "<p>5 rows × 24 columns</p>\n",
       "</div>"
      ],
      "text/plain": [
       "   1stFlrSF  2ndFlrSF  BedroomAbvGr BsmtExposure  BsmtFinSF1 BsmtFinType1  \\\n",
       "0       856     854.0           3.0           No         706          GLQ   \n",
       "1      1262       0.0           3.0           Gd         978          ALQ   \n",
       "2       920     866.0           3.0           Mn         486          GLQ   \n",
       "3       961       NaN           NaN           No         216          ALQ   \n",
       "4      1145       NaN           4.0           Av         655          GLQ   \n",
       "\n",
       "   BsmtUnfSF  EnclosedPorch  GarageArea GarageFinish  ...  LotFrontage  \\\n",
       "0        150            0.0         548          RFn  ...         65.0   \n",
       "1        284            NaN         460          RFn  ...         80.0   \n",
       "2        434            0.0         608          RFn  ...         68.0   \n",
       "3        540            NaN         642          Unf  ...         60.0   \n",
       "4        490            0.0         836          RFn  ...         84.0   \n",
       "\n",
       "   MasVnrArea OpenPorchSF  OverallCond  OverallQual  TotalBsmtSF  WoodDeckSF  \\\n",
       "0       196.0          61            5            7          856         0.0   \n",
       "1         0.0           0            8            6         1262         NaN   \n",
       "2       162.0          42            5            7          920         NaN   \n",
       "3         0.0          35            5            7          756         NaN   \n",
       "4       350.0          84            5            8         1145         NaN   \n",
       "\n",
       "   YearBuilt  YearRemodAdd  SalePrice  \n",
       "0       2003          2003     208500  \n",
       "1       1976          1976     181500  \n",
       "2       2001          2002     223500  \n",
       "3       1915          1970     140000  \n",
       "4       2000          2000     250000  \n",
       "\n",
       "[5 rows x 24 columns]"
      ]
     },
     "execution_count": 4,
     "metadata": {},
     "output_type": "execute_result"
    }
   ],
   "source": [
    "import pandas as pd\n",
    "df_house_prices = pd.read_csv(f\"outputs/datasets/collection/house_prices_records.csv\")\n",
    "df_house_prices.head()"
   ]
  },
  {
   "cell_type": "markdown",
   "metadata": {},
   "source": [
    "## Exploration"
   ]
  },
  {
   "cell_type": "markdown",
   "metadata": {},
   "source": [
    "We are interested to get more familiar with the dataset, check variable type and distribution, missing levels and what these variables mean.\n",
    "* Explore the data with pandas study"
   ]
  },
  {
   "cell_type": "code",
   "execution_count": 6,
   "metadata": {},
   "outputs": [
    {
     "name": "stdout",
     "output_type": "stream",
     "text": [
      "\u001b[33mWARNING: Skipping pandas-profiling as it is not installed.\u001b[0m\u001b[33m\n",
      "\u001b[0mNote: you may need to restart the kernel to use updated packages.\n",
      "Requirement already satisfied: ydata-profiling in /workspace/.pyenv_mirror/user/3.8.18/lib/python3.8/site-packages (4.4.0)\n",
      "Requirement already satisfied: multimethod<2,>=1.4 in /workspace/.pyenv_mirror/user/3.8.18/lib/python3.8/site-packages (from ydata-profiling) (1.10)\n",
      "Requirement already satisfied: wordcloud>=1.9.1 in /workspace/.pyenv_mirror/user/3.8.18/lib/python3.8/site-packages (from ydata-profiling) (1.9.3)\n",
      "Requirement already satisfied: htmlmin==0.1.12 in /workspace/.pyenv_mirror/user/3.8.18/lib/python3.8/site-packages (from ydata-profiling) (0.1.12)\n",
      "Requirement already satisfied: pandas!=1.4.0,<2.1,>1.1 in /workspace/.pyenv_mirror/user/3.8.18/lib/python3.8/site-packages (from ydata-profiling) (1.4.2)\n",
      "Requirement already satisfied: tqdm<5,>=4.48.2 in /workspace/.pyenv_mirror/user/3.8.18/lib/python3.8/site-packages (from ydata-profiling) (4.66.2)\n",
      "Requirement already satisfied: PyYAML<6.1,>=5.0.0 in /workspace/.pyenv_mirror/user/3.8.18/lib/python3.8/site-packages (from ydata-profiling) (6.0.1)\n",
      "Requirement already satisfied: jinja2<3.2,>=2.11.1 in /workspace/.pyenv_mirror/user/3.8.18/lib/python3.8/site-packages (from ydata-profiling) (3.1.1)\n",
      "Requirement already satisfied: dacite>=1.8 in /workspace/.pyenv_mirror/user/3.8.18/lib/python3.8/site-packages (from ydata-profiling) (1.8.1)\n",
      "Requirement already satisfied: seaborn<0.13,>=0.10.1 in /workspace/.pyenv_mirror/user/3.8.18/lib/python3.8/site-packages (from ydata-profiling) (0.11.0)\n",
      "Requirement already satisfied: scipy<1.12,>=1.4.1 in /workspace/.pyenv_mirror/user/3.8.18/lib/python3.8/site-packages (from ydata-profiling) (1.9.3)\n",
      "Requirement already satisfied: visions[type_image_path]==0.7.5 in /workspace/.pyenv_mirror/user/3.8.18/lib/python3.8/site-packages (from ydata-profiling) (0.7.5)\n",
      "Requirement already satisfied: typeguard<3,>=2.13.2 in /workspace/.pyenv_mirror/user/3.8.18/lib/python3.8/site-packages (from ydata-profiling) (2.13.3)\n",
      "Requirement already satisfied: statsmodels<1,>=0.13.2 in /workspace/.pyenv_mirror/user/3.8.18/lib/python3.8/site-packages (from ydata-profiling) (0.14.1)\n",
      "Requirement already satisfied: imagehash==4.3.1 in /workspace/.pyenv_mirror/user/3.8.18/lib/python3.8/site-packages (from ydata-profiling) (4.3.1)\n",
      "Requirement already satisfied: pydantic<2,>=1.8.1 in /workspace/.pyenv_mirror/user/3.8.18/lib/python3.8/site-packages (from ydata-profiling) (1.10.14)\n",
      "Requirement already satisfied: numpy<1.24,>=1.16.0 in /workspace/.pyenv_mirror/user/3.8.18/lib/python3.8/site-packages (from ydata-profiling) (1.18.5)\n",
      "Requirement already satisfied: requests<3,>=2.24.0 in /workspace/.pyenv_mirror/user/3.8.18/lib/python3.8/site-packages (from ydata-profiling) (2.31.0)\n",
      "Requirement already satisfied: phik<0.13,>=0.11.1 in /workspace/.pyenv_mirror/user/3.8.18/lib/python3.8/site-packages (from ydata-profiling) (0.12.4)\n",
      "Requirement already satisfied: matplotlib<4,>=3.2 in /workspace/.pyenv_mirror/user/3.8.18/lib/python3.8/site-packages (from ydata-profiling) (3.3.1)\n",
      "Requirement already satisfied: PyWavelets in /workspace/.pyenv_mirror/user/3.8.18/lib/python3.8/site-packages (from imagehash==4.3.1->ydata-profiling) (1.4.1)\n",
      "Requirement already satisfied: pillow in /workspace/.pyenv_mirror/user/3.8.18/lib/python3.8/site-packages (from imagehash==4.3.1->ydata-profiling) (10.2.0)\n",
      "Requirement already satisfied: attrs>=19.3.0 in /workspace/.pyenv_mirror/user/3.8.18/lib/python3.8/site-packages (from visions[type_image_path]==0.7.5->ydata-profiling) (23.2.0)\n",
      "Requirement already satisfied: networkx>=2.4 in /workspace/.pyenv_mirror/user/3.8.18/lib/python3.8/site-packages (from visions[type_image_path]==0.7.5->ydata-profiling) (3.1)\n",
      "Requirement already satisfied: tangled-up-in-unicode>=0.0.4 in /workspace/.pyenv_mirror/user/3.8.18/lib/python3.8/site-packages (from visions[type_image_path]==0.7.5->ydata-profiling) (0.2.0)\n",
      "Requirement already satisfied: MarkupSafe>=2.0 in /workspace/.pyenv_mirror/user/3.8.18/lib/python3.8/site-packages (from jinja2<3.2,>=2.11.1->ydata-profiling) (2.0.1)\n",
      "Requirement already satisfied: python-dateutil>=2.1 in /workspace/.pyenv_mirror/user/3.8.18/lib/python3.8/site-packages (from matplotlib<4,>=3.2->ydata-profiling) (2.9.0.post0)\n",
      "Requirement already satisfied: pyparsing!=2.0.4,!=2.1.2,!=2.1.6,>=2.0.3 in /workspace/.pyenv_mirror/user/3.8.18/lib/python3.8/site-packages (from matplotlib<4,>=3.2->ydata-profiling) (3.1.1)\n",
      "Requirement already satisfied: certifi>=2020.06.20 in /workspace/.pyenv_mirror/user/3.8.18/lib/python3.8/site-packages (from matplotlib<4,>=3.2->ydata-profiling) (2024.2.2)\n",
      "Requirement already satisfied: cycler>=0.10 in /workspace/.pyenv_mirror/user/3.8.18/lib/python3.8/site-packages (from matplotlib<4,>=3.2->ydata-profiling) (0.12.1)\n",
      "Requirement already satisfied: kiwisolver>=1.0.1 in /workspace/.pyenv_mirror/user/3.8.18/lib/python3.8/site-packages (from matplotlib<4,>=3.2->ydata-profiling) (1.4.5)\n",
      "Requirement already satisfied: pytz>=2020.1 in /workspace/.pyenv_mirror/user/3.8.18/lib/python3.8/site-packages (from pandas!=1.4.0,<2.1,>1.1->ydata-profiling) (2024.1)\n",
      "Requirement already satisfied: joblib>=0.14.1 in /workspace/.pyenv_mirror/user/3.8.18/lib/python3.8/site-packages (from phik<0.13,>=0.11.1->ydata-profiling) (1.3.2)\n",
      "Requirement already satisfied: typing-extensions>=4.2.0 in /workspace/.pyenv_mirror/user/3.8.18/lib/python3.8/site-packages (from pydantic<2,>=1.8.1->ydata-profiling) (4.10.0)\n",
      "Requirement already satisfied: charset-normalizer<4,>=2 in /workspace/.pyenv_mirror/user/3.8.18/lib/python3.8/site-packages (from requests<3,>=2.24.0->ydata-profiling) (3.3.2)\n",
      "Requirement already satisfied: urllib3<3,>=1.21.1 in /workspace/.pyenv_mirror/user/3.8.18/lib/python3.8/site-packages (from requests<3,>=2.24.0->ydata-profiling) (2.2.1)\n",
      "Requirement already satisfied: idna<4,>=2.5 in /workspace/.pyenv_mirror/user/3.8.18/lib/python3.8/site-packages (from requests<3,>=2.24.0->ydata-profiling) (3.6)\n",
      "Requirement already satisfied: packaging>=21.3 in /workspace/.pyenv_mirror/user/3.8.18/lib/python3.8/site-packages (from statsmodels<1,>=0.13.2->ydata-profiling) (23.2)\n",
      "Requirement already satisfied: patsy>=0.5.4 in /workspace/.pyenv_mirror/user/3.8.18/lib/python3.8/site-packages (from statsmodels<1,>=0.13.2->ydata-profiling) (0.5.6)\n",
      "Requirement already satisfied: six in /workspace/.pyenv_mirror/user/3.8.18/lib/python3.8/site-packages (from patsy>=0.5.4->statsmodels<1,>=0.13.2->ydata-profiling) (1.16.0)\n",
      "\n",
      "\u001b[1m[\u001b[0m\u001b[34;49mnotice\u001b[0m\u001b[1;39;49m]\u001b[0m\u001b[39;49m A new release of pip is available: \u001b[0m\u001b[31;49m23.0.1\u001b[0m\u001b[39;49m -> \u001b[0m\u001b[32;49m24.0\u001b[0m\n",
      "\u001b[1m[\u001b[0m\u001b[34;49mnotice\u001b[0m\u001b[1;39;49m]\u001b[0m\u001b[39;49m To update, run: \u001b[0m\u001b[32;49mpip install --upgrade pip\u001b[0m\n",
      "Note: you may need to restart the kernel to use updated packages.\n"
     ]
    }
   ],
   "source": [
    "%pip uninstall pandas-profiling -y\n",
    "%pip install ydata-profiling"
   ]
  },
  {
   "cell_type": "code",
   "execution_count": 7,
   "metadata": {},
   "outputs": [
    {
     "ename": "SyntaxError",
     "evalue": "invalid syntax (2553127448.py, line 2)",
     "output_type": "error",
     "traceback": [
      "\u001b[0;36m  Cell \u001b[0;32mIn[7], line 2\u001b[0;36m\u001b[0m\n\u001b[0;31m    pandas_report = ProfileReport(df_house_prices=, minimal=True)\u001b[0m\n\u001b[0m                                                  ^\u001b[0m\n\u001b[0;31mSyntaxError\u001b[0m\u001b[0;31m:\u001b[0m invalid syntax\n"
     ]
    }
   ],
   "source": [
    "from ypandas_profiling import ProfileReport\n",
    "pandas_report = ProfileReport(df_house_prices=, minimal=True)\n",
    "pandas_report.to_notebook_iframe()"
   ]
  }
 ],
 "metadata": {
  "kernelspec": {
   "display_name": "Python 3",
   "language": "python",
   "name": "python3"
  },
  "language_info": {
   "codemirror_mode": {
    "name": "ipython",
    "version": 3
   },
   "file_extension": ".py",
   "mimetype": "text/x-python",
   "name": "python",
   "nbconvert_exporter": "python",
   "pygments_lexer": "ipython3",
   "version": "3.8.18"
  }
 },
 "nbformat": 4,
 "nbformat_minor": 2
}
